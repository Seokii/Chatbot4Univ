{
 "cells": [
  {
   "cell_type": "markdown",
   "id": "8ef75773",
   "metadata": {},
   "source": [
    "# 의도 분류 모델 학습 데이터 생성하기"
   ]
  },
  {
   "cell_type": "markdown",
   "id": "e1029818",
   "metadata": {},
   "source": [
    "## 0. Import"
   ]
  },
  {
   "cell_type": "code",
   "execution_count": 1,
   "id": "a07b3b07",
   "metadata": {},
   "outputs": [],
   "source": [
    "import pandas as pd\n",
    "import numpy as np\n",
    "import matplotlib.pyplot as plt\n",
    "import seaborn as sns\n",
    "from konlpy.tag import Komoran\n",
    "import matplotlib.pyplot as plt"
   ]
  },
  {
   "cell_type": "markdown",
   "id": "c1622aea",
   "metadata": {},
   "source": [
    "## 1. 데이터 불러오기"
   ]
  },
  {
   "cell_type": "code",
   "execution_count": 2,
   "id": "78296814",
   "metadata": {},
   "outputs": [],
   "source": [
    "movie = pd.read_csv(\"../../변형데이터/영화리뷰.csv\")\n",
    "purpose = pd.read_csv(\"../../변형데이터/용도별목적대화데이터.csv\")\n",
    "topic = pd.read_csv(\"../../변형데이터/주제별일상대화데이터.csv\")\n",
    "common_sense = pd.read_csv(\"../../변형데이터/일반상식.csv\")\n",
    "add = pd.read_csv(\"../../변형데이터/추가데이터.csv\")\n",
    "\n",
    "movie.dropna(inplace=True)\n",
    "purpose.dropna(inplace=True)\n",
    "topic.dropna(inplace=True)\n",
    "common_sense.dropna(inplace=True)\n",
    "add.dropna(inplace=True)"
   ]
  },
  {
   "cell_type": "code",
   "execution_count": 3,
   "id": "9a032b57",
   "metadata": {},
   "outputs": [
    {
     "name": "stdout",
     "output_type": "stream",
     "text": [
      "movie shape => (199992, 3)\n",
      "purpose shape => (480494, 1)\n",
      "topic shape => (1445760, 1)\n",
      "common_sense shape => (68538, 3)\n",
      "add => (9216, 2)\n"
     ]
    }
   ],
   "source": [
    "print(f\"movie shape => {movie.shape}\\n\\\n",
    "purpose shape => {purpose.shape}\\n\\\n",
    "topic shape => {topic.shape}\\n\\\n",
    "common_sense shape => {common_sense.shape}\\n\\\n",
    "add => {add.shape}\")"
   ]
  },
  {
   "cell_type": "code",
   "execution_count": 4,
   "id": "e930d8f9",
   "metadata": {
    "scrolled": true
   },
   "outputs": [
    {
     "data": {
      "text/plain": [
       "Index(['id', 'document', 'label'], dtype='object')"
      ]
     },
     "execution_count": 4,
     "metadata": {},
     "output_type": "execute_result"
    }
   ],
   "source": [
    "movie.columns"
   ]
  },
  {
   "cell_type": "code",
   "execution_count": 5,
   "id": "371eea71",
   "metadata": {},
   "outputs": [
    {
     "data": {
      "text/plain": [
       "Index(['text'], dtype='object')"
      ]
     },
     "execution_count": 5,
     "metadata": {},
     "output_type": "execute_result"
    }
   ],
   "source": [
    "purpose.columns"
   ]
  },
  {
   "cell_type": "code",
   "execution_count": 6,
   "id": "e9d91947",
   "metadata": {},
   "outputs": [
    {
     "data": {
      "text/plain": [
       "Index(['text'], dtype='object')"
      ]
     },
     "execution_count": 6,
     "metadata": {},
     "output_type": "execute_result"
    }
   ],
   "source": [
    "topic.columns"
   ]
  },
  {
   "cell_type": "code",
   "execution_count": 7,
   "id": "16cf0f59",
   "metadata": {},
   "outputs": [
    {
     "data": {
      "text/plain": [
       "Index(['intent', 'query', 'answer'], dtype='object')"
      ]
     },
     "execution_count": 7,
     "metadata": {},
     "output_type": "execute_result"
    }
   ],
   "source": [
    "common_sense.columns"
   ]
  },
  {
   "cell_type": "code",
   "execution_count": 8,
   "id": "76d84076",
   "metadata": {},
   "outputs": [
    {
     "data": {
      "text/plain": [
       "Index(['query', 'intent'], dtype='object')"
      ]
     },
     "execution_count": 8,
     "metadata": {},
     "output_type": "execute_result"
    }
   ],
   "source": [
    "add.columns"
   ]
  },
  {
   "cell_type": "code",
   "execution_count": 9,
   "id": "66dff7cd",
   "metadata": {},
   "outputs": [],
   "source": [
    "all_data = list(movie['document']) + list(purpose['text']) + list(topic['text']) + list(common_sense['query']) \\\n",
    "+ list(common_sense['answer']) + list(add['query'])"
   ]
  },
  {
   "cell_type": "code",
   "execution_count": 10,
   "id": "2e60ebc3",
   "metadata": {},
   "outputs": [
    {
     "data": {
      "text/plain": [
       "2272538"
      ]
     },
     "execution_count": 10,
     "metadata": {},
     "output_type": "execute_result"
    }
   ],
   "source": [
    "len(all_data)"
   ]
  },
  {
   "cell_type": "code",
   "execution_count": 11,
   "id": "a286016c",
   "metadata": {},
   "outputs": [],
   "source": [
    "# 통합본 생성하고 저장하기\n",
    "total = pd.DataFrame({'text': all_data})\n",
    "total.to_csv(\"../../변형데이터/통합본데이터.csv\", index=False)"
   ]
  },
  {
   "cell_type": "markdown",
   "id": "ffb7d227",
   "metadata": {},
   "source": [
    "## 2. 의도 분류 데이터 생성하기"
   ]
  },
  {
   "cell_type": "markdown",
   "id": "8b479de5",
   "metadata": {},
   "source": [
    "0 -> 번호, 1 -> 장소, 2 -> 시간, 3 -> 기타  \n",
    "기타는 추후에 다시 생성 예정"
   ]
  },
  {
   "cell_type": "code",
   "execution_count": 12,
   "id": "7d087451",
   "metadata": {},
   "outputs": [],
   "source": [
    "number = []\n",
    "place = []\n",
    "time = []\n",
    "etc = []"
   ]
  },
  {
   "cell_type": "code",
   "execution_count": 13,
   "id": "3f01b0da",
   "metadata": {},
   "outputs": [],
   "source": [
    "for i in all_data:\n",
    "    if ('어디' or '장소' or '위치' or '주소') in i: place.append(i)\n",
    "    elif ('번호' or '전화') in i: number.append(i)\n",
    "    elif ('시작' or '마감' or '언제' or '기간' or '시간') in i: time.append(i)\n",
    "    else: etc.append(i)"
   ]
  },
  {
   "cell_type": "code",
   "execution_count": 14,
   "id": "5573135e",
   "metadata": {},
   "outputs": [
    {
     "data": {
      "text/plain": [
       "12512"
      ]
     },
     "execution_count": 14,
     "metadata": {},
     "output_type": "execute_result"
    }
   ],
   "source": [
    "len(number)"
   ]
  },
  {
   "cell_type": "code",
   "execution_count": 15,
   "id": "fccab236",
   "metadata": {},
   "outputs": [
    {
     "data": {
      "text/plain": [
       "12512"
      ]
     },
     "execution_count": 15,
     "metadata": {},
     "output_type": "execute_result"
    }
   ],
   "source": [
    "number_label = []\n",
    "for _ in range(len(number)):\n",
    "    number_label.append(0)\n",
    "len(number_label)"
   ]
  },
  {
   "cell_type": "code",
   "execution_count": 16,
   "id": "492f141f",
   "metadata": {},
   "outputs": [
    {
     "data": {
      "text/plain": [
       "29336"
      ]
     },
     "execution_count": 16,
     "metadata": {},
     "output_type": "execute_result"
    }
   ],
   "source": [
    "len(place)"
   ]
  },
  {
   "cell_type": "code",
   "execution_count": 17,
   "id": "b144fade",
   "metadata": {},
   "outputs": [
    {
     "data": {
      "text/plain": [
       "29336"
      ]
     },
     "execution_count": 17,
     "metadata": {},
     "output_type": "execute_result"
    }
   ],
   "source": [
    "place_label = []\n",
    "for _ in range(len(place)):\n",
    "    place_label.append(1)\n",
    "len(place_label)"
   ]
  },
  {
   "cell_type": "code",
   "execution_count": 18,
   "id": "55c0206b",
   "metadata": {},
   "outputs": [
    {
     "data": {
      "text/plain": [
       "8332"
      ]
     },
     "execution_count": 18,
     "metadata": {},
     "output_type": "execute_result"
    }
   ],
   "source": [
    "len(time)"
   ]
  },
  {
   "cell_type": "code",
   "execution_count": 19,
   "id": "b50ffe98",
   "metadata": {
    "scrolled": true
   },
   "outputs": [
    {
     "data": {
      "text/plain": [
       "8332"
      ]
     },
     "execution_count": 19,
     "metadata": {},
     "output_type": "execute_result"
    }
   ],
   "source": [
    "time_label = []\n",
    "for _ in range(len(time)):\n",
    "    time_label.append(2)\n",
    "len(time_label)"
   ]
  },
  {
   "cell_type": "code",
   "execution_count": 20,
   "id": "5ab3141b",
   "metadata": {},
   "outputs": [],
   "source": [
    "#import random\n",
    "#random.seed(42)\n",
    "#etc_sample = random.sample(etc, 20000)"
   ]
  },
  {
   "cell_type": "code",
   "execution_count": 21,
   "id": "4c10f994",
   "metadata": {},
   "outputs": [],
   "source": [
    "#etc_sample_label = []\n",
    "#for _ in range(len(etc_sample)):\n",
    "#    etc_sample_label.append(3)\n",
    "#len(etc_sample_label)"
   ]
  },
  {
   "cell_type": "code",
   "execution_count": 22,
   "id": "72f5fcef",
   "metadata": {},
   "outputs": [],
   "source": [
    "train_df = pd.DataFrame({'text':number+place+time,\n",
    "                         'label':number_label+place_label+time_label})"
   ]
  },
  {
   "cell_type": "code",
   "execution_count": 23,
   "id": "70ed7924",
   "metadata": {},
   "outputs": [
    {
     "data": {
      "text/html": [
       "<div>\n",
       "<style scoped>\n",
       "    .dataframe tbody tr th:only-of-type {\n",
       "        vertical-align: middle;\n",
       "    }\n",
       "\n",
       "    .dataframe tbody tr th {\n",
       "        vertical-align: top;\n",
       "    }\n",
       "\n",
       "    .dataframe thead th {\n",
       "        text-align: right;\n",
       "    }\n",
       "</style>\n",
       "<table border=\"1\" class=\"dataframe\">\n",
       "  <thead>\n",
       "    <tr style=\"text-align: right;\">\n",
       "      <th></th>\n",
       "      <th>text</th>\n",
       "      <th>label</th>\n",
       "    </tr>\n",
       "  </thead>\n",
       "  <tbody>\n",
       "    <tr>\n",
       "      <th>0</th>\n",
       "      <td>이 영화 있는사람 공유 부탁합니다 제 폰번호 010 4427 2774 연락한통만요^-^;</td>\n",
       "      <td>0</td>\n",
       "    </tr>\n",
       "    <tr>\n",
       "      <th>1</th>\n",
       "      <td>작가때문에 1점 주려다가 영화가 너무 좋아서 10점줌비행기를 끌고 추운곳에다 추락시...</td>\n",
       "      <td>0</td>\n",
       "    </tr>\n",
       "    <tr>\n",
       "      <th>2</th>\n",
       "      <td>비밀번호가 뭐야? 서윤내사랑 ㅋ_ㅋ</td>\n",
       "      <td>0</td>\n",
       "    </tr>\n",
       "    <tr>\n",
       "      <th>3</th>\n",
       "      <td>용팔이 시르즈를 볼려면 어떻게 하는지.전화번호좀</td>\n",
       "      <td>0</td>\n",
       "    </tr>\n",
       "    <tr>\n",
       "      <th>4</th>\n",
       "      <td>보다 말았는데 심장 졸라 쫄깃해진다;; 근데 여주 졸라 답답함. 세면대 물기 닦는 ...</td>\n",
       "      <td>0</td>\n",
       "    </tr>\n",
       "  </tbody>\n",
       "</table>\n",
       "</div>"
      ],
      "text/plain": [
       "                                                text  label\n",
       "0  이 영화 있는사람 공유 부탁합니다 제 폰번호 010 4427 2774 연락한통만요^-^;      0\n",
       "1  작가때문에 1점 주려다가 영화가 너무 좋아서 10점줌비행기를 끌고 추운곳에다 추락시...      0\n",
       "2                                비밀번호가 뭐야? 서윤내사랑 ㅋ_ㅋ      0\n",
       "3                         용팔이 시르즈를 볼려면 어떻게 하는지.전화번호좀      0\n",
       "4  보다 말았는데 심장 졸라 쫄깃해진다;; 근데 여주 졸라 답답함. 세면대 물기 닦는 ...      0"
      ]
     },
     "execution_count": 23,
     "metadata": {},
     "output_type": "execute_result"
    }
   ],
   "source": [
    "train_df.head()"
   ]
  },
  {
   "cell_type": "code",
   "execution_count": 24,
   "id": "6279d601",
   "metadata": {},
   "outputs": [
    {
     "data": {
      "text/html": [
       "<div>\n",
       "<style scoped>\n",
       "    .dataframe tbody tr th:only-of-type {\n",
       "        vertical-align: middle;\n",
       "    }\n",
       "\n",
       "    .dataframe tbody tr th {\n",
       "        vertical-align: top;\n",
       "    }\n",
       "\n",
       "    .dataframe thead th {\n",
       "        text-align: right;\n",
       "    }\n",
       "</style>\n",
       "<table border=\"1\" class=\"dataframe\">\n",
       "  <thead>\n",
       "    <tr style=\"text-align: right;\">\n",
       "      <th></th>\n",
       "      <th>text</th>\n",
       "      <th>label</th>\n",
       "    </tr>\n",
       "  </thead>\n",
       "  <tbody>\n",
       "    <tr>\n",
       "      <th>50175</th>\n",
       "      <td>선배님들은 아이출산하고 언제쯤 생리 시작하셨나요?</td>\n",
       "      <td>2</td>\n",
       "    </tr>\n",
       "    <tr>\n",
       "      <th>50176</th>\n",
       "      <td>부정출혈이 있고 난 후 며칠 뒤에 생리 시작하는지 아시는분 있나요...?</td>\n",
       "      <td>2</td>\n",
       "    </tr>\n",
       "    <tr>\n",
       "      <th>50177</th>\n",
       "      <td>언제 시작하고 언제 끝났는지</td>\n",
       "      <td>2</td>\n",
       "    </tr>\n",
       "    <tr>\n",
       "      <th>50178</th>\n",
       "      <td>며칠전에 머리를 매직하고 나서부터슬슬 여자로서의 자각은 가지고 다니기 시작했는데얼마...</td>\n",
       "      <td>2</td>\n",
       "    </tr>\n",
       "    <tr>\n",
       "      <th>50179</th>\n",
       "      <td>가을언제 시작햇다고 끝나냐 ...</td>\n",
       "      <td>2</td>\n",
       "    </tr>\n",
       "  </tbody>\n",
       "</table>\n",
       "</div>"
      ],
      "text/plain": [
       "                                                    text  label\n",
       "50175                        선배님들은 아이출산하고 언제쯤 생리 시작하셨나요?      2\n",
       "50176           부정출혈이 있고 난 후 며칠 뒤에 생리 시작하는지 아시는분 있나요...?      2\n",
       "50177                                    언제 시작하고 언제 끝났는지      2\n",
       "50178  며칠전에 머리를 매직하고 나서부터슬슬 여자로서의 자각은 가지고 다니기 시작했는데얼마...      2\n",
       "50179                                 가을언제 시작햇다고 끝나냐 ...      2"
      ]
     },
     "execution_count": 24,
     "metadata": {},
     "output_type": "execute_result"
    }
   ],
   "source": [
    "train_df.tail()"
   ]
  },
  {
   "cell_type": "code",
   "execution_count": 25,
   "id": "7911d678",
   "metadata": {},
   "outputs": [
    {
     "data": {
      "text/html": [
       "<div>\n",
       "<style scoped>\n",
       "    .dataframe tbody tr th:only-of-type {\n",
       "        vertical-align: middle;\n",
       "    }\n",
       "\n",
       "    .dataframe tbody tr th {\n",
       "        vertical-align: top;\n",
       "    }\n",
       "\n",
       "    .dataframe thead th {\n",
       "        text-align: right;\n",
       "    }\n",
       "</style>\n",
       "<table border=\"1\" class=\"dataframe\">\n",
       "  <thead>\n",
       "    <tr style=\"text-align: right;\">\n",
       "      <th></th>\n",
       "      <th>text</th>\n",
       "      <th>label</th>\n",
       "    </tr>\n",
       "  </thead>\n",
       "  <tbody>\n",
       "    <tr>\n",
       "      <th>0</th>\n",
       "      <td>이 영화 있는사람 공유 부탁합니다 제 폰번호 010 4427 2774 연락한통만요^-^;</td>\n",
       "      <td>0</td>\n",
       "    </tr>\n",
       "    <tr>\n",
       "      <th>1</th>\n",
       "      <td>작가때문에 1점 주려다가 영화가 너무 좋아서 10점줌비행기를 끌고 추운곳에다 추락시...</td>\n",
       "      <td>0</td>\n",
       "    </tr>\n",
       "    <tr>\n",
       "      <th>2</th>\n",
       "      <td>비밀번호가 뭐야? 서윤내사랑 ㅋ_ㅋ</td>\n",
       "      <td>0</td>\n",
       "    </tr>\n",
       "    <tr>\n",
       "      <th>3</th>\n",
       "      <td>용팔이 시르즈를 볼려면 어떻게 하는지.전화번호좀</td>\n",
       "      <td>0</td>\n",
       "    </tr>\n",
       "    <tr>\n",
       "      <th>4</th>\n",
       "      <td>보다 말았는데 심장 졸라 쫄깃해진다;; 근데 여주 졸라 답답함. 세면대 물기 닦는 ...</td>\n",
       "      <td>0</td>\n",
       "    </tr>\n",
       "    <tr>\n",
       "      <th>...</th>\n",
       "      <td>...</td>\n",
       "      <td>...</td>\n",
       "    </tr>\n",
       "    <tr>\n",
       "      <th>12507</th>\n",
       "      <td>학원에서 어쩌다 보니 어느 여자 번호를 얻었어.</td>\n",
       "      <td>0</td>\n",
       "    </tr>\n",
       "    <tr>\n",
       "      <th>12508</th>\n",
       "      <td>방어율 99.9라서 등번호 99로 지었냐</td>\n",
       "      <td>0</td>\n",
       "    </tr>\n",
       "    <tr>\n",
       "      <th>12509</th>\n",
       "      <td>다른건 몰라도 주민등록번호 유출한건 처벌 해야한다</td>\n",
       "      <td>0</td>\n",
       "    </tr>\n",
       "    <tr>\n",
       "      <th>12510</th>\n",
       "      <td>동영상 찍고 차량 번호 찍고 시간대 찍어서 회사측에 보내도록해 그리고 이런사람은 다...</td>\n",
       "      <td>0</td>\n",
       "    </tr>\n",
       "    <tr>\n",
       "      <th>12511</th>\n",
       "      <td>이메일 계정 비밀번호 마지막으로 바꾼 날짜가 언제야</td>\n",
       "      <td>0</td>\n",
       "    </tr>\n",
       "  </tbody>\n",
       "</table>\n",
       "<p>12512 rows × 2 columns</p>\n",
       "</div>"
      ],
      "text/plain": [
       "                                                    text  label\n",
       "0      이 영화 있는사람 공유 부탁합니다 제 폰번호 010 4427 2774 연락한통만요^-^;      0\n",
       "1      작가때문에 1점 주려다가 영화가 너무 좋아서 10점줌비행기를 끌고 추운곳에다 추락시...      0\n",
       "2                                    비밀번호가 뭐야? 서윤내사랑 ㅋ_ㅋ      0\n",
       "3                             용팔이 시르즈를 볼려면 어떻게 하는지.전화번호좀      0\n",
       "4      보다 말았는데 심장 졸라 쫄깃해진다;; 근데 여주 졸라 답답함. 세면대 물기 닦는 ...      0\n",
       "...                                                  ...    ...\n",
       "12507                         학원에서 어쩌다 보니 어느 여자 번호를 얻었어.      0\n",
       "12508                             방어율 99.9라서 등번호 99로 지었냐      0\n",
       "12509                        다른건 몰라도 주민등록번호 유출한건 처벌 해야한다      0\n",
       "12510  동영상 찍고 차량 번호 찍고 시간대 찍어서 회사측에 보내도록해 그리고 이런사람은 다...      0\n",
       "12511                       이메일 계정 비밀번호 마지막으로 바꾼 날짜가 언제야      0\n",
       "\n",
       "[12512 rows x 2 columns]"
      ]
     },
     "execution_count": 25,
     "metadata": {},
     "output_type": "execute_result"
    }
   ],
   "source": [
    "train_df[train_df['label']==0]"
   ]
  },
  {
   "cell_type": "code",
   "execution_count": 26,
   "id": "d4dd731d",
   "metadata": {},
   "outputs": [
    {
     "data": {
      "text/html": [
       "<div>\n",
       "<style scoped>\n",
       "    .dataframe tbody tr th:only-of-type {\n",
       "        vertical-align: middle;\n",
       "    }\n",
       "\n",
       "    .dataframe tbody tr th {\n",
       "        vertical-align: top;\n",
       "    }\n",
       "\n",
       "    .dataframe thead th {\n",
       "        text-align: right;\n",
       "    }\n",
       "</style>\n",
       "<table border=\"1\" class=\"dataframe\">\n",
       "  <thead>\n",
       "    <tr style=\"text-align: right;\">\n",
       "      <th></th>\n",
       "      <th>text</th>\n",
       "      <th>label</th>\n",
       "    </tr>\n",
       "  </thead>\n",
       "  <tbody>\n",
       "    <tr>\n",
       "      <th>12512</th>\n",
       "      <td>실화여서 더욱 충격, 다시는 어디에서도 일어나서는 안될 경각심을 일깨워주는 영화</td>\n",
       "      <td>1</td>\n",
       "    </tr>\n",
       "    <tr>\n",
       "      <th>12513</th>\n",
       "      <td>정말재밋게 봣는대요 어디서 받을수잇조?</td>\n",
       "      <td>1</td>\n",
       "    </tr>\n",
       "    <tr>\n",
       "      <th>12514</th>\n",
       "      <td>너무너무재밌게보고있어요! 중간부터 본방사수했지만 스토리가 탄탄하고 흥미진진해서 1화...</td>\n",
       "      <td>1</td>\n",
       "    </tr>\n",
       "    <tr>\n",
       "      <th>12515</th>\n",
       "      <td>역시 이정도라 도 어디냐 이런거 다시는 보기 힘들거다</td>\n",
       "      <td>1</td>\n",
       "    </tr>\n",
       "    <tr>\n",
       "      <th>12516</th>\n",
       "      <td>개인적으로 메카닉 보다 좀더 잼있었고, 적이 알고보니깐 영화 거침없이 쏴라 슛뎀업에...</td>\n",
       "      <td>1</td>\n",
       "    </tr>\n",
       "    <tr>\n",
       "      <th>...</th>\n",
       "      <td>...</td>\n",
       "      <td>...</td>\n",
       "    </tr>\n",
       "    <tr>\n",
       "      <th>41843</th>\n",
       "      <td>답이 어디있을까? 답은 언제나 내 안에 있죠.</td>\n",
       "      <td>1</td>\n",
       "    </tr>\n",
       "    <tr>\n",
       "      <th>41844</th>\n",
       "      <td>어디서부터 어떻게 얘기를 해야할지. 차분히 얘기해봐요. 언제나 여기 있을게요.</td>\n",
       "      <td>1</td>\n",
       "    </tr>\n",
       "    <tr>\n",
       "      <th>41845</th>\n",
       "      <td>언제 어디로 튀어서 니 뒷통수 후려칠 지 모른다.</td>\n",
       "      <td>1</td>\n",
       "    </tr>\n",
       "    <tr>\n",
       "      <th>41846</th>\n",
       "      <td>언제어디서나 기분 좋게 바라 볼수 있는분!!</td>\n",
       "      <td>1</td>\n",
       "    </tr>\n",
       "    <tr>\n",
       "      <th>41847</th>\n",
       "      <td>언제 어디서든 백선생님 보면서 감사한마음으로 레시피를 따라해봅니다.</td>\n",
       "      <td>1</td>\n",
       "    </tr>\n",
       "  </tbody>\n",
       "</table>\n",
       "<p>29336 rows × 2 columns</p>\n",
       "</div>"
      ],
      "text/plain": [
       "                                                    text  label\n",
       "12512       실화여서 더욱 충격, 다시는 어디에서도 일어나서는 안될 경각심을 일깨워주는 영화      1\n",
       "12513                              정말재밋게 봣는대요 어디서 받을수잇조?      1\n",
       "12514  너무너무재밌게보고있어요! 중간부터 본방사수했지만 스토리가 탄탄하고 흥미진진해서 1화...      1\n",
       "12515                      역시 이정도라 도 어디냐 이런거 다시는 보기 힘들거다      1\n",
       "12516  개인적으로 메카닉 보다 좀더 잼있었고, 적이 알고보니깐 영화 거침없이 쏴라 슛뎀업에...      1\n",
       "...                                                  ...    ...\n",
       "41843                          답이 어디있을까? 답은 언제나 내 안에 있죠.      1\n",
       "41844        어디서부터 어떻게 얘기를 해야할지. 차분히 얘기해봐요. 언제나 여기 있을게요.      1\n",
       "41845                        언제 어디로 튀어서 니 뒷통수 후려칠 지 모른다.      1\n",
       "41846                           언제어디서나 기분 좋게 바라 볼수 있는분!!      1\n",
       "41847              언제 어디서든 백선생님 보면서 감사한마음으로 레시피를 따라해봅니다.      1\n",
       "\n",
       "[29336 rows x 2 columns]"
      ]
     },
     "execution_count": 26,
     "metadata": {},
     "output_type": "execute_result"
    }
   ],
   "source": [
    "train_df[train_df['label']==1]"
   ]
  },
  {
   "cell_type": "code",
   "execution_count": 27,
   "id": "0b704ac1",
   "metadata": {},
   "outputs": [
    {
     "data": {
      "text/html": [
       "<div>\n",
       "<style scoped>\n",
       "    .dataframe tbody tr th:only-of-type {\n",
       "        vertical-align: middle;\n",
       "    }\n",
       "\n",
       "    .dataframe tbody tr th {\n",
       "        vertical-align: top;\n",
       "    }\n",
       "\n",
       "    .dataframe thead th {\n",
       "        text-align: right;\n",
       "    }\n",
       "</style>\n",
       "<table border=\"1\" class=\"dataframe\">\n",
       "  <thead>\n",
       "    <tr style=\"text-align: right;\">\n",
       "      <th></th>\n",
       "      <th>text</th>\n",
       "      <th>label</th>\n",
       "    </tr>\n",
       "  </thead>\n",
       "  <tbody>\n",
       "    <tr>\n",
       "      <th>41848</th>\n",
       "      <td>잊을 수 없는 그대여, 6월이 되고 비가 내려야 그대가 보이기 시작합니다.</td>\n",
       "      <td>2</td>\n",
       "    </tr>\n",
       "    <tr>\n",
       "      <th>41849</th>\n",
       "      <td>중반부까지 진짜 몰입하고 봤는데 갑자기 러브스토리부터 깨기시작</td>\n",
       "      <td>2</td>\n",
       "    </tr>\n",
       "    <tr>\n",
       "      <th>41850</th>\n",
       "      <td>이것이 바로 전설의 시작</td>\n",
       "      <td>2</td>\n",
       "    </tr>\n",
       "    <tr>\n",
       "      <th>41851</th>\n",
       "      <td>아름다운 영화. 다만 바이올린에서 시작하여 첫사랑으로 끝나는 과정이 썩 매끄럽지만은...</td>\n",
       "      <td>2</td>\n",
       "    </tr>\n",
       "    <tr>\n",
       "      <th>41852</th>\n",
       "      <td>반전, 그 시작과 끝이다</td>\n",
       "      <td>2</td>\n",
       "    </tr>\n",
       "    <tr>\n",
       "      <th>...</th>\n",
       "      <td>...</td>\n",
       "      <td>...</td>\n",
       "    </tr>\n",
       "    <tr>\n",
       "      <th>50175</th>\n",
       "      <td>선배님들은 아이출산하고 언제쯤 생리 시작하셨나요?</td>\n",
       "      <td>2</td>\n",
       "    </tr>\n",
       "    <tr>\n",
       "      <th>50176</th>\n",
       "      <td>부정출혈이 있고 난 후 며칠 뒤에 생리 시작하는지 아시는분 있나요...?</td>\n",
       "      <td>2</td>\n",
       "    </tr>\n",
       "    <tr>\n",
       "      <th>50177</th>\n",
       "      <td>언제 시작하고 언제 끝났는지</td>\n",
       "      <td>2</td>\n",
       "    </tr>\n",
       "    <tr>\n",
       "      <th>50178</th>\n",
       "      <td>며칠전에 머리를 매직하고 나서부터슬슬 여자로서의 자각은 가지고 다니기 시작했는데얼마...</td>\n",
       "      <td>2</td>\n",
       "    </tr>\n",
       "    <tr>\n",
       "      <th>50179</th>\n",
       "      <td>가을언제 시작햇다고 끝나냐 ...</td>\n",
       "      <td>2</td>\n",
       "    </tr>\n",
       "  </tbody>\n",
       "</table>\n",
       "<p>8332 rows × 2 columns</p>\n",
       "</div>"
      ],
      "text/plain": [
       "                                                    text  label\n",
       "41848          잊을 수 없는 그대여, 6월이 되고 비가 내려야 그대가 보이기 시작합니다.      2\n",
       "41849                 중반부까지 진짜 몰입하고 봤는데 갑자기 러브스토리부터 깨기시작      2\n",
       "41850                                      이것이 바로 전설의 시작      2\n",
       "41851  아름다운 영화. 다만 바이올린에서 시작하여 첫사랑으로 끝나는 과정이 썩 매끄럽지만은...      2\n",
       "41852                                      반전, 그 시작과 끝이다      2\n",
       "...                                                  ...    ...\n",
       "50175                        선배님들은 아이출산하고 언제쯤 생리 시작하셨나요?      2\n",
       "50176           부정출혈이 있고 난 후 며칠 뒤에 생리 시작하는지 아시는분 있나요...?      2\n",
       "50177                                    언제 시작하고 언제 끝났는지      2\n",
       "50178  며칠전에 머리를 매직하고 나서부터슬슬 여자로서의 자각은 가지고 다니기 시작했는데얼마...      2\n",
       "50179                                 가을언제 시작햇다고 끝나냐 ...      2\n",
       "\n",
       "[8332 rows x 2 columns]"
      ]
     },
     "execution_count": 27,
     "metadata": {},
     "output_type": "execute_result"
    }
   ],
   "source": [
    "train_df[train_df['label']==2]"
   ]
  },
  {
   "cell_type": "code",
   "execution_count": 28,
   "id": "1b93c30a",
   "metadata": {},
   "outputs": [],
   "source": [
    "#train_df[train_df['label']==3]"
   ]
  },
  {
   "cell_type": "code",
   "execution_count": 29,
   "id": "d53e4bd7",
   "metadata": {},
   "outputs": [],
   "source": [
    "train_df.reset_index(drop=True, inplace=True)"
   ]
  },
  {
   "cell_type": "code",
   "execution_count": 30,
   "id": "ec242b4d",
   "metadata": {},
   "outputs": [
    {
     "data": {
      "text/html": [
       "<div>\n",
       "<style scoped>\n",
       "    .dataframe tbody tr th:only-of-type {\n",
       "        vertical-align: middle;\n",
       "    }\n",
       "\n",
       "    .dataframe tbody tr th {\n",
       "        vertical-align: top;\n",
       "    }\n",
       "\n",
       "    .dataframe thead th {\n",
       "        text-align: right;\n",
       "    }\n",
       "</style>\n",
       "<table border=\"1\" class=\"dataframe\">\n",
       "  <thead>\n",
       "    <tr style=\"text-align: right;\">\n",
       "      <th></th>\n",
       "      <th>text</th>\n",
       "      <th>label</th>\n",
       "    </tr>\n",
       "  </thead>\n",
       "  <tbody>\n",
       "    <tr>\n",
       "      <th>50175</th>\n",
       "      <td>선배님들은 아이출산하고 언제쯤 생리 시작하셨나요?</td>\n",
       "      <td>2</td>\n",
       "    </tr>\n",
       "    <tr>\n",
       "      <th>50176</th>\n",
       "      <td>부정출혈이 있고 난 후 며칠 뒤에 생리 시작하는지 아시는분 있나요...?</td>\n",
       "      <td>2</td>\n",
       "    </tr>\n",
       "    <tr>\n",
       "      <th>50177</th>\n",
       "      <td>언제 시작하고 언제 끝났는지</td>\n",
       "      <td>2</td>\n",
       "    </tr>\n",
       "    <tr>\n",
       "      <th>50178</th>\n",
       "      <td>며칠전에 머리를 매직하고 나서부터슬슬 여자로서의 자각은 가지고 다니기 시작했는데얼마...</td>\n",
       "      <td>2</td>\n",
       "    </tr>\n",
       "    <tr>\n",
       "      <th>50179</th>\n",
       "      <td>가을언제 시작햇다고 끝나냐 ...</td>\n",
       "      <td>2</td>\n",
       "    </tr>\n",
       "  </tbody>\n",
       "</table>\n",
       "</div>"
      ],
      "text/plain": [
       "                                                    text  label\n",
       "50175                        선배님들은 아이출산하고 언제쯤 생리 시작하셨나요?      2\n",
       "50176           부정출혈이 있고 난 후 며칠 뒤에 생리 시작하는지 아시는분 있나요...?      2\n",
       "50177                                    언제 시작하고 언제 끝났는지      2\n",
       "50178  며칠전에 머리를 매직하고 나서부터슬슬 여자로서의 자각은 가지고 다니기 시작했는데얼마...      2\n",
       "50179                                 가을언제 시작햇다고 끝나냐 ...      2"
      ]
     },
     "execution_count": 30,
     "metadata": {},
     "output_type": "execute_result"
    }
   ],
   "source": [
    "train_df.tail()"
   ]
  },
  {
   "cell_type": "code",
   "execution_count": 31,
   "id": "d67109b3",
   "metadata": {},
   "outputs": [],
   "source": [
    "train_df.to_csv(\"train_data.csv\", index=False)"
   ]
  },
  {
   "cell_type": "markdown",
   "id": "1923b672",
   "metadata": {},
   "source": [
    "## 3. 적절한 패딩 길이 구하기"
   ]
  },
  {
   "cell_type": "code",
   "execution_count": 32,
   "id": "df402d1e",
   "metadata": {},
   "outputs": [],
   "source": [
    "data = pd.read_csv('train_data.csv')"
   ]
  },
  {
   "cell_type": "code",
   "execution_count": 33,
   "id": "446033ca",
   "metadata": {},
   "outputs": [
    {
     "data": {
      "text/plain": [
       "(50180, 2)"
      ]
     },
     "execution_count": 33,
     "metadata": {},
     "output_type": "execute_result"
    }
   ],
   "source": [
    "data.shape"
   ]
  },
  {
   "cell_type": "code",
   "execution_count": 34,
   "id": "96f4c673",
   "metadata": {},
   "outputs": [],
   "source": [
    "tokenizer = Komoran()"
   ]
  },
  {
   "cell_type": "code",
   "execution_count": 35,
   "id": "c3f89ecd",
   "metadata": {},
   "outputs": [],
   "source": [
    "data_tokenized = [[token+\"/\"+POS for token, POS in tokenizer.pos(text_)] for text_ in data['text']]\n",
    "\n",
    "exclusion_tags = [\n",
    "    'JKS', 'JKC', 'JKG', 'JKO', 'JKB', 'JKV', 'JKQ',\n",
    "            'JX', 'JC',\n",
    "            'SF', 'SP', 'SS', 'SE', 'SO',\n",
    "            'EP', 'EF', 'EC', 'ETN', 'ETM',\n",
    "            'XSN', 'XSV', 'XSA'\n",
    "]\n",
    "\n",
    "f = lambda x: x in exclusion_tags\n",
    "\n",
    "data_list = []\n",
    "for i in range(len(data_tokenized)):\n",
    "        temp = []\n",
    "        for j in range(len(data_tokenized[i])):\n",
    "            if f(data_tokenized[i][j].split('/')[1]) is False:\n",
    "                temp.append(data_tokenized[i][j].split('/')[0])\n",
    "        data_list.append(temp)"
   ]
  },
  {
   "cell_type": "code",
   "execution_count": 36,
   "id": "8f8f3a69",
   "metadata": {},
   "outputs": [
    {
     "name": "stdout",
     "output_type": "stream",
     "text": [
      "토큰 길이 평균: 7.61135910721403\n",
      "토큰 길이 최대: 69\n",
      "토큰 길이 표준편차: 5.037248115716786\n"
     ]
    }
   ],
   "source": [
    "num_tokens = [len(tokens) for tokens in data_list]\n",
    "num_tokens = np.array(num_tokens)\n",
    "\n",
    "# 평균값, 최댓값, 표준편차\n",
    "print(f\"토큰 길이 평균: {np.mean(num_tokens)}\")\n",
    "print(f\"토큰 길이 최대: {np.max(num_tokens)}\")\n",
    "print(f\"토큰 길이 표준편차: {np.std(num_tokens)}\")"
   ]
  },
  {
   "cell_type": "code",
   "execution_count": 37,
   "id": "db301a47",
   "metadata": {},
   "outputs": [
    {
     "data": {
      "image/png": "[encoded data removed]",
      "text/plain": [
       "<Figure size 432x288 with 1 Axes>"
      ]
     },
     "metadata": {
      "needs_background": "light"
     },
     "output_type": "display_data"
    }
   ],
   "source": [
    "plt.title('all text length')\n",
    "plt.hist(num_tokens, bins=100)\n",
    "plt.xlabel('length of samples')\n",
    "plt.ylabel('number of samples')\n",
    "plt.show()"
   ]
  },
  {
   "cell_type": "code",
   "execution_count": 38,
   "id": "2751e998",
   "metadata": {},
   "outputs": [
    {
     "name": "stdout",
     "output_type": "stream",
     "text": [
      "전체 샘플 중 길이가 25 이하인 샘플의 비율: 0.9825827022718214\n"
     ]
    }
   ],
   "source": [
    "select_length = 25\n",
    "\n",
    "def below_threshold_len(max_len, nested_list):\n",
    "    cnt = 0\n",
    "    for s in nested_list:\n",
    "        if(len(s) <= max_len):\n",
    "            cnt = cnt + 1\n",
    "        \n",
    "    print('전체 샘플 중 길이가 %s 이하인 샘플의 비율: %s'%(max_len, (cnt / len(nested_list))))\n",
    "    \n",
    "below_threshold_len(select_length, data_list)"
   ]
  },
  {
   "cell_type": "code",
   "execution_count": null,
   "id": "f8448e9e",
   "metadata": {},
   "outputs": [],
   "source": []
  }
 ],
 "metadata": {
  "kernelspec": {
   "display_name": "Python 3 (ipykernel)",
   "language": "python",
   "name": "python3"
  },
  "language_info": {
   "codemirror_mode": {
    "name": "ipython",
    "version": 3
   },
   "file_extension": ".py",
   "mimetype": "text/x-python",
   "name": "python",
   "nbconvert_exporter": "python",
   "pygments_lexer": "ipython3",
   "version": "3.8.5"
  }
 },
 "nbformat": 4,
 "nbformat_minor": 5
}