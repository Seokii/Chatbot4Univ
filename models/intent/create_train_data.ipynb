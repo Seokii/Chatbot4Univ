{
 "cells": [
  {
   "cell_type": "markdown",
   "id": "8ef75773",
   "metadata": {},
   "source": [
    "# 의도 분류 모델 학습 데이터 생성하기"
   ]
  },
  {
   "cell_type": "markdown",
   "id": "e1029818",
   "metadata": {},
   "source": [
    "## 0. Import"
   ]
  },
  {
   "cell_type": "code",
   "execution_count": 1,
   "id": "a07b3b07",
   "metadata": {},
   "outputs": [],
   "source": [
    "import pandas as pd\n",
    "import numpy as np\n",
    "import matplotlib.pyplot as plt\n",
    "import seaborn as sns\n",
    "from konlpy.tag import Komoran\n",
    "import matplotlib.pyplot as plt"
   ]
  },
  {
   "cell_type": "markdown",
   "id": "c1622aea",
   "metadata": {},
   "source": [
    "## 1. 데이터 불러오기"
   ]
  },
  {
   "cell_type": "code",
   "execution_count": 2,
   "id": "78296814",
   "metadata": {},
   "outputs": [],
   "source": [
    "movie = pd.read_csv(\"../../변형데이터/영화리뷰.csv\")\n",
    "purpose = pd.read_csv(\"../../변형데이터/용도별목적대화데이터.csv\")\n",
    "topic = pd.read_csv(\"../../변형데이터/주제별일상대화데이터.csv\")\n",
    "common_sense = pd.read_csv(\"../../변형데이터/일반상식.csv\")\n",
    "\n",
    "movie.dropna(inplace=True)\n",
    "purpose.dropna(inplace=True)\n",
    "topic.dropna(inplace=True)\n",
    "common_sense.dropna(inplace=True)"
   ]
  },
  {
   "cell_type": "code",
   "execution_count": 3,
   "id": "9a032b57",
   "metadata": {},
   "outputs": [
    {
     "name": "stdout",
     "output_type": "stream",
     "text": [
      "movie shape => (199992, 3)\n",
      "purpose shape => (480494, 1)\n",
      "topic shape => (1445760, 1)\n",
      "common_sense shape => (68538, 3)\n"
     ]
    }
   ],
   "source": [
    "print(f\"movie shape => {movie.shape}\\n\\\n",
    "purpose shape => {purpose.shape}\\n\\\n",
    "topic shape => {topic.shape}\\n\\\n",
    "common_sense shape => {common_sense.shape}\")"
   ]
  },
  {
   "cell_type": "code",
   "execution_count": 4,
   "id": "e930d8f9",
   "metadata": {
    "scrolled": true
   },
   "outputs": [
    {
     "data": {
      "text/plain": [
       "Index(['id', 'document', 'label'], dtype='object')"
      ]
     },
     "execution_count": 4,
     "metadata": {},
     "output_type": "execute_result"
    }
   ],
   "source": [
    "movie.columns"
   ]
  },
  {
   "cell_type": "code",
   "execution_count": 5,
   "id": "371eea71",
   "metadata": {},
   "outputs": [
    {
     "data": {
      "text/plain": [
       "Index(['text'], dtype='object')"
      ]
     },
     "execution_count": 5,
     "metadata": {},
     "output_type": "execute_result"
    }
   ],
   "source": [
    "purpose.columns"
   ]
  },
  {
   "cell_type": "code",
   "execution_count": 6,
   "id": "e9d91947",
   "metadata": {},
   "outputs": [
    {
     "data": {
      "text/plain": [
       "Index(['text'], dtype='object')"
      ]
     },
     "execution_count": 6,
     "metadata": {},
     "output_type": "execute_result"
    }
   ],
   "source": [
    "topic.columns"
   ]
  },
  {
   "cell_type": "code",
   "execution_count": 7,
   "id": "16cf0f59",
   "metadata": {},
   "outputs": [
    {
     "data": {
      "text/plain": [
       "Index(['intent', 'query', 'answer'], dtype='object')"
      ]
     },
     "execution_count": 7,
     "metadata": {},
     "output_type": "execute_result"
    }
   ],
   "source": [
    "common_sense.columns"
   ]
  },
  {
   "cell_type": "code",
   "execution_count": 8,
   "id": "66dff7cd",
   "metadata": {},
   "outputs": [],
   "source": [
    "all_data = list(movie['document']) + list(purpose['text']) + list(topic['text']) + list(common_sense['query']) + list(common_sense['answer'])"
   ]
  },
  {
   "cell_type": "code",
   "execution_count": 9,
   "id": "2e60ebc3",
   "metadata": {},
   "outputs": [
    {
     "data": {
      "text/plain": [
       "2263322"
      ]
     },
     "execution_count": 9,
     "metadata": {},
     "output_type": "execute_result"
    }
   ],
   "source": [
    "len(all_data)"
   ]
  },
  {
   "cell_type": "code",
   "execution_count": 10,
   "id": "a286016c",
   "metadata": {},
   "outputs": [],
   "source": [
    "# 통합본 생성하고 저장하기\n",
    "total = pd.DataFrame({'text': all_data})\n",
    "total.to_csv(\"../../변형데이터/통합본데이터.csv\", index=False)"
   ]
  },
  {
   "cell_type": "markdown",
   "id": "ffb7d227",
   "metadata": {},
   "source": [
    "## 2. 의도 분류 데이터 생성하기"
   ]
  },
  {
   "cell_type": "markdown",
   "id": "8b479de5",
   "metadata": {},
   "source": [
    "0 -> 번호, 1 -> 장소, 2 -> 시간, 3 -> 기타  \n",
    "기타는 추후에 다시 생성 예정"
   ]
  },
  {
   "cell_type": "code",
   "execution_count": null,
   "id": "7d087451",
   "metadata": {},
   "outputs": [],
   "source": [
    "number = []\n",
    "place = []\n",
    "time = []\n",
    "etc = []"
   ]
  },
  {
   "cell_type": "code",
   "execution_count": null,
   "id": "3f01b0da",
   "metadata": {},
   "outputs": [],
   "source": [
    "for i in all_data:\n",
    "    if ('어디' or '장소' or '위치' or '주소') in i: place.append(i)\n",
    "    elif ('번호' or '전화') in i: number.append(i)\n",
    "    elif ('시작' or '마감' or '언제' or '기간' or '시간') in i: time.append(i)\n",
    "    else: etc.append(i)"
   ]
  },
  {
   "cell_type": "code",
   "execution_count": null,
   "id": "5573135e",
   "metadata": {},
   "outputs": [],
   "source": [
    "len(number)"
   ]
  },
  {
   "cell_type": "code",
   "execution_count": null,
   "id": "fccab236",
   "metadata": {},
   "outputs": [],
   "source": [
    "number_label = []\n",
    "for _ in range(len(number)):\n",
    "    number_label.append(0)\n",
    "len(number_label)"
   ]
  },
  {
   "cell_type": "code",
   "execution_count": null,
   "id": "492f141f",
   "metadata": {},
   "outputs": [],
   "source": [
    "len(place)"
   ]
  },
  {
   "cell_type": "code",
   "execution_count": null,
   "id": "b144fade",
   "metadata": {},
   "outputs": [],
   "source": [
    "place_label = []\n",
    "for _ in range(len(place)):\n",
    "    place_label.append(1)\n",
    "len(place_label)"
   ]
  },
  {
   "cell_type": "code",
   "execution_count": null,
   "id": "55c0206b",
   "metadata": {},
   "outputs": [],
   "source": [
    "len(time)"
   ]
  },
  {
   "cell_type": "code",
   "execution_count": null,
   "id": "b50ffe98",
   "metadata": {
    "scrolled": true
   },
   "outputs": [],
   "source": [
    "time_label = []\n",
    "for _ in range(len(time)):\n",
    "    time_label.append(2)\n",
    "len(time_label)"
   ]
  },
  {
   "cell_type": "code",
   "execution_count": null,
   "id": "5ab3141b",
   "metadata": {},
   "outputs": [],
   "source": [
    "#import random\n",
    "#random.seed(42)\n",
    "#etc_sample = random.sample(etc, 20000)"
   ]
  },
  {
   "cell_type": "code",
   "execution_count": null,
   "id": "4c10f994",
   "metadata": {},
   "outputs": [],
   "source": [
    "#etc_sample_label = []\n",
    "#for _ in range(len(etc_sample)):\n",
    "#    etc_sample_label.append(3)\n",
    "#len(etc_sample_label)"
   ]
  },
  {
   "cell_type": "code",
   "execution_count": null,
   "id": "72f5fcef",
   "metadata": {},
   "outputs": [],
   "source": [
    "train_df = pd.DataFrame({'text':number+place+time,\n",
    "                         'label':number_label+place_label+time_label})"
   ]
  },
  {
   "cell_type": "code",
   "execution_count": null,
   "id": "70ed7924",
   "metadata": {},
   "outputs": [],
   "source": [
    "train_df.head()"
   ]
  },
  {
   "cell_type": "code",
   "execution_count": null,
   "id": "6279d601",
   "metadata": {},
   "outputs": [],
   "source": [
    "train_df.tail()"
   ]
  },
  {
   "cell_type": "code",
   "execution_count": null,
   "id": "7911d678",
   "metadata": {},
   "outputs": [],
   "source": [
    "train_df[train_df['label']==0]"
   ]
  },
  {
   "cell_type": "code",
   "execution_count": null,
   "id": "d4dd731d",
   "metadata": {},
   "outputs": [],
   "source": [
    "train_df[train_df['label']==1]"
   ]
  },
  {
   "cell_type": "code",
   "execution_count": null,
   "id": "0b704ac1",
   "metadata": {},
   "outputs": [],
   "source": [
    "train_df[train_df['label']==2]"
   ]
  },
  {
   "cell_type": "code",
   "execution_count": null,
   "id": "1b93c30a",
   "metadata": {},
   "outputs": [],
   "source": [
    "#train_df[train_df['label']==3]"
   ]
  },
  {
   "cell_type": "code",
   "execution_count": null,
   "id": "d53e4bd7",
   "metadata": {},
   "outputs": [],
   "source": [
    "train_df.reset_index(drop=True, inplace=True)"
   ]
  },
  {
   "cell_type": "code",
   "execution_count": null,
   "id": "ec242b4d",
   "metadata": {},
   "outputs": [],
   "source": [
    "train_df.tail()"
   ]
  },
  {
   "cell_type": "code",
   "execution_count": null,
   "id": "d67109b3",
   "metadata": {},
   "outputs": [],
   "source": [
    "train_df.to_csv(\"train_data.csv\", index=False)"
   ]
  },
  {
   "cell_type": "markdown",
   "id": "1923b672",
   "metadata": {},
   "source": [
    "## 3. 적절한 패딩 길이 구하기"
   ]
  },
  {
   "cell_type": "code",
   "execution_count": null,
   "id": "df402d1e",
   "metadata": {},
   "outputs": [],
   "source": [
    "data = pd.read_csv('train_data.csv')"
   ]
  },
  {
   "cell_type": "code",
   "execution_count": null,
   "id": "446033ca",
   "metadata": {},
   "outputs": [],
   "source": [
    "data.shape"
   ]
  },
  {
   "cell_type": "code",
   "execution_count": null,
   "id": "96f4c673",
   "metadata": {},
   "outputs": [],
   "source": [
    "tokenizer = Komoran()"
   ]
  },
  {
   "cell_type": "code",
   "execution_count": null,
   "id": "c3f89ecd",
   "metadata": {},
   "outputs": [],
   "source": [
    "data_tokenized = [[token+\"/\"+POS for token, POS in tokenizer.pos(text_)] for text_ in data['text']]\n",
    "\n",
    "exclusion_tags = [\n",
    "    'JKS', 'JKC', 'JKG', 'JKO', 'JKB', 'JKV', 'JKQ',\n",
    "            'JX', 'JC',\n",
    "            'SF', 'SP', 'SS', 'SE', 'SO',\n",
    "            'EP', 'EF', 'EC', 'ETN', 'ETM',\n",
    "            'XSN', 'XSV', 'XSA'\n",
    "]\n",
    "\n",
    "f = lambda x: x in exclusion_tags\n",
    "\n",
    "data_list = []\n",
    "for i in range(len(data_tokenized)):\n",
    "        temp = []\n",
    "        for j in range(len(data_tokenized[i])):\n",
    "            if f(data_tokenized[i][j].split('/')[1]) is False:\n",
    "                temp.append(data_tokenized[i][j].split('/')[0])\n",
    "        data_list.append(temp)"
   ]
  },
  {
   "cell_type": "code",
   "execution_count": null,
   "id": "8f8f3a69",
   "metadata": {},
   "outputs": [],
   "source": [
    "num_tokens = [len(tokens) for tokens in data_list]\n",
    "num_tokens = np.array(num_tokens)\n",
    "\n",
    "# 평균값, 최댓값, 표준편차\n",
    "print(f\"토큰 길이 평균: {np.mean(num_tokens)}\")\n",
    "print(f\"토큰 길이 최대: {np.max(num_tokens)}\")\n",
    "print(f\"토큰 길이 표준편차: {np.std(num_tokens)}\")"
   ]
  },
  {
   "cell_type": "code",
   "execution_count": null,
   "id": "db301a47",
   "metadata": {},
   "outputs": [],
   "source": [
    "plt.title('all text length')\n",
    "plt.hist(num_tokens, bins=100)\n",
    "plt.xlabel('length of samples')\n",
    "plt.ylabel('number of samples')\n",
    "plt.show()"
   ]
  },
  {
   "cell_type": "code",
   "execution_count": null,
   "id": "2751e998",
   "metadata": {},
   "outputs": [],
   "source": [
    "select_length = 25\n",
    "\n",
    "def below_threshold_len(max_len, nested_list):\n",
    "    cnt = 0\n",
    "    for s in nested_list:\n",
    "        if(len(s) <= max_len):\n",
    "            cnt = cnt + 1\n",
    "        \n",
    "    print('전체 샘플 중 길이가 %s 이하인 샘플의 비율: %s'%(max_len, (cnt / len(nested_list))))\n",
    "    \n",
    "below_threshold_len(select_length, data_list)"
   ]
  },
  {
   "cell_type": "code",
   "execution_count": null,
   "id": "f8448e9e",
   "metadata": {},
   "outputs": [],
   "source": []
  }
 ],
 "metadata": {
  "kernelspec": {
   "display_name": "Python 3 (ipykernel)",
   "language": "python",
   "name": "python3"
  },
  "language_info": {
   "codemirror_mode": {
    "name": "ipython",
    "version": 3
   },
   "file_extension": ".py",
   "mimetype": "text/x-python",
   "name": "python",
   "nbconvert_exporter": "python",
   "pygments_lexer": "ipython3",
   "version": "3.8.5"
  }
 },
 "nbformat": 4,
 "nbformat_minor": 5
}