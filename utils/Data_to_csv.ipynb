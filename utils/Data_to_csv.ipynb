{
 "cells": [
  {
   "cell_type": "code",
   "execution_count": 2,
   "id": "a74c84f8",
   "metadata": {},
   "outputs": [],
   "source": [
    "import os\n",
    "import json\n",
    "import pandas as pd"
   ]
  },
  {
   "cell_type": "code",
   "execution_count": 120,
   "id": "e6c59e8d",
   "metadata": {},
   "outputs": [],
   "source": [
    "def counting(path):\n",
    "    cnt = 0\n",
    "    data_dir = path\n",
    "\n",
    "    for path in os.listdir(data_dir):\n",
    "        if os.path.isfile(os.path.join(data_dir, path)):\n",
    "            cnt += 1\n",
    "\n",
    "    print(f'데이터 개수 = {cnt}')\n",
    "    return cnt"
   ]
  },
  {
   "cell_type": "markdown",
   "id": "cc7b50c6",
   "metadata": {},
   "source": [
    "## 용도별 목적 데이터 csv로 변환"
   ]
  },
  {
   "cell_type": "code",
   "execution_count": 134,
   "id": "ac458c2d",
   "metadata": {},
   "outputs": [],
   "source": [
    "target_path = \"../원본데이터/용도별 목적대화 데이터/\""
   ]
  },
  {
   "cell_type": "code",
   "execution_count": 135,
   "id": "cee6b079",
   "metadata": {},
   "outputs": [],
   "source": [
    "target_path_list = os.listdir(target_path)"
   ]
  },
  {
   "cell_type": "code",
   "execution_count": 136,
   "id": "fbb85c34",
   "metadata": {},
   "outputs": [
    {
     "data": {
      "text/plain": [
       "['AS문의',\n",
       " '관광',\n",
       " '교통',\n",
       " '등록문의',\n",
       " '레저',\n",
       " '민원신고',\n",
       " '배송',\n",
       " '부서안내',\n",
       " '비용환불문의',\n",
       " '서류문의',\n",
       " '숙박',\n",
       " '식당',\n",
       " '온오프라인안내',\n",
       " '이벤트',\n",
       " '일정문의',\n",
       " '절차문의',\n",
       " '제품사용문의',\n",
       " '주문결제',\n",
       " '프로그램문의',\n",
       " '환불반품교환']"
      ]
     },
     "execution_count": 136,
     "metadata": {},
     "output_type": "execute_result"
    }
   ],
   "source": [
    "target_path_list"
   ]
  },
  {
   "cell_type": "code",
   "execution_count": 137,
   "id": "be583119",
   "metadata": {},
   "outputs": [
    {
     "name": "stdout",
     "output_type": "stream",
     "text": [
      "데이터 개수 = 2426\n",
      "데이터 개수 = 2281\n",
      "데이터 개수 = 899\n",
      "데이터 개수 = 1806\n",
      "데이터 개수 = 2313\n",
      "데이터 개수 = 2833\n",
      "데이터 개수 = 1945\n",
      "데이터 개수 = 2093\n",
      "데이터 개수 = 970\n",
      "데이터 개수 = 2196\n",
      "데이터 개수 = 1410\n",
      "데이터 개수 = 1446\n",
      "데이터 개수 = 2136\n",
      "데이터 개수 = 990\n",
      "데이터 개수 = 910\n",
      "데이터 개수 = 2787\n",
      "데이터 개수 = 2473\n",
      "데이터 개수 = 1952\n",
      "데이터 개수 = 2707\n",
      "데이터 개수 = 1910\n",
      "총 데이터 개수 = 38483\n"
     ]
    }
   ],
   "source": [
    "total_data = 0\n",
    "for i in range(len(target_path_list)):\n",
    "    cnt = counting(target_path+target_path_list[i])\n",
    "    total_data += cnt\n",
    "print(f'총 데이터 개수 = {total_data}')"
   ]
  },
  {
   "cell_type": "code",
   "execution_count": 138,
   "id": "22990dd9",
   "metadata": {},
   "outputs": [
    {
     "name": "stdout",
     "output_type": "stream",
     "text": [
      "error! ../원본데이터/용도별 목적대화 데이터/배송/shopping4_0842.json\n"
     ]
    }
   ],
   "source": [
    "purpose = []\n",
    "for i in range(len(target_path_list)):\n",
    "    files = os.listdir(target_path+target_path_list[i])\n",
    "    for k in range(len(files)):\n",
    "        final_path = str(target_path)+str(target_path_list[i])+\"/\"+str(files[k])\n",
    "        try:\n",
    "            target_file = open(f\"{final_path}\", encoding=\"UTF-8\")\n",
    "            target_file = json.loads(target_file.read())\n",
    "            for j in range(len(target_file['info'][0]['annotations']['lines'])):\n",
    "                purpose.append(target_file['info'][0]['annotations']['lines'][j]['norm_text'][2:])\n",
    "        except:\n",
    "            print(f\"error! {final_path}\")"
   ]
  },
  {
   "cell_type": "code",
   "execution_count": 139,
   "id": "0373927d",
   "metadata": {},
   "outputs": [
    {
     "data": {
      "text/plain": [
       "480494"
      ]
     },
     "execution_count": 139,
     "metadata": {},
     "output_type": "execute_result"
    }
   ],
   "source": [
    "len(purpose)"
   ]
  },
  {
   "cell_type": "code",
   "execution_count": 140,
   "id": "cd136636",
   "metadata": {},
   "outputs": [],
   "source": [
    "purpose_df = pd.DataFrame({'text':purpose})"
   ]
  },
  {
   "cell_type": "code",
   "execution_count": 141,
   "id": "049e63fc",
   "metadata": {},
   "outputs": [
    {
     "data": {
      "text/html": [
       "<div>\n",
       "<style scoped>\n",
       "    .dataframe tbody tr th:only-of-type {\n",
       "        vertical-align: middle;\n",
       "    }\n",
       "\n",
       "    .dataframe tbody tr th {\n",
       "        vertical-align: top;\n",
       "    }\n",
       "\n",
       "    .dataframe thead th {\n",
       "        text-align: right;\n",
       "    }\n",
       "</style>\n",
       "<table border=\"1\" class=\"dataframe\">\n",
       "  <thead>\n",
       "    <tr style=\"text-align: right;\">\n",
       "      <th></th>\n",
       "      <th>text</th>\n",
       "    </tr>\n",
       "  </thead>\n",
       "  <tbody>\n",
       "    <tr>\n",
       "      <th>0</th>\n",
       "      <td>네 많이 걱정하셨을 텐데요</td>\n",
       "    </tr>\n",
       "    <tr>\n",
       "      <th>1</th>\n",
       "      <td>일단 기사가 다시 가서 확인을 좀 드릴거고요</td>\n",
       "    </tr>\n",
       "    <tr>\n",
       "      <th>2</th>\n",
       "      <td>일정 확인해 볼텐데 혹시  방문 시간대는 언제가 좀 편하시겠어요 고객님</td>\n",
       "    </tr>\n",
       "    <tr>\n",
       "      <th>3</th>\n",
       "      <td>지금 이 지금 시간대가 좋은데요</td>\n",
       "    </tr>\n",
       "    <tr>\n",
       "      <th>4</th>\n",
       "      <td>예 확인해 보겠습니다 고객님</td>\n",
       "    </tr>\n",
       "  </tbody>\n",
       "</table>\n",
       "</div>"
      ],
      "text/plain": [
       "                                      text\n",
       "0                           네 많이 걱정하셨을 텐데요\n",
       "1                 일단 기사가 다시 가서 확인을 좀 드릴거고요\n",
       "2  일정 확인해 볼텐데 혹시  방문 시간대는 언제가 좀 편하시겠어요 고객님\n",
       "3                        지금 이 지금 시간대가 좋은데요\n",
       "4                          예 확인해 보겠습니다 고객님"
      ]
     },
     "execution_count": 141,
     "metadata": {},
     "output_type": "execute_result"
    }
   ],
   "source": [
    "purpose_df.head()"
   ]
  },
  {
   "cell_type": "code",
   "execution_count": 142,
   "id": "539a2d5f",
   "metadata": {},
   "outputs": [
    {
     "data": {
      "text/html": [
       "<div>\n",
       "<style scoped>\n",
       "    .dataframe tbody tr th:only-of-type {\n",
       "        vertical-align: middle;\n",
       "    }\n",
       "\n",
       "    .dataframe tbody tr th {\n",
       "        vertical-align: top;\n",
       "    }\n",
       "\n",
       "    .dataframe thead th {\n",
       "        text-align: right;\n",
       "    }\n",
       "</style>\n",
       "<table border=\"1\" class=\"dataframe\">\n",
       "  <thead>\n",
       "    <tr style=\"text-align: right;\">\n",
       "      <th></th>\n",
       "      <th>text</th>\n",
       "    </tr>\n",
       "  </thead>\n",
       "  <tbody>\n",
       "    <tr>\n",
       "      <th>480489</th>\n",
       "      <td>좀 전에 환불 때문에 제가 통화를 했어요 한번 끊고나서 다시 전화 한 건데요</td>\n",
       "    </tr>\n",
       "    <tr>\n",
       "      <th>480490</th>\n",
       "      <td>아니 이걸 지금 제가 원 플러스 원이라고 하면서 지금 반도 아니고요</td>\n",
       "    </tr>\n",
       "    <tr>\n",
       "      <th>480491</th>\n",
       "      <td>예 고객님 계속 말씀하세요</td>\n",
       "    </tr>\n",
       "    <tr>\n",
       "      <th>480492</th>\n",
       "      <td>뭐 거의 한 삼십 프로를 까고서 준다고 하는 거 같은데 이거는 말이 안 되죠</td>\n",
       "    </tr>\n",
       "    <tr>\n",
       "      <th>480493</th>\n",
       "      <td>저 이렇게 하면 소비자 고발 센터에다가 항의 할 거예요</td>\n",
       "    </tr>\n",
       "  </tbody>\n",
       "</table>\n",
       "</div>"
      ],
      "text/plain": [
       "                                              text\n",
       "480489  좀 전에 환불 때문에 제가 통화를 했어요 한번 끊고나서 다시 전화 한 건데요\n",
       "480490       아니 이걸 지금 제가 원 플러스 원이라고 하면서 지금 반도 아니고요\n",
       "480491                              예 고객님 계속 말씀하세요\n",
       "480492  뭐 거의 한 삼십 프로를 까고서 준다고 하는 거 같은데 이거는 말이 안 되죠\n",
       "480493              저 이렇게 하면 소비자 고발 센터에다가 항의 할 거예요"
      ]
     },
     "execution_count": 142,
     "metadata": {},
     "output_type": "execute_result"
    }
   ],
   "source": [
    "purpose_df.tail()"
   ]
  },
  {
   "cell_type": "code",
   "execution_count": 143,
   "id": "887b4595",
   "metadata": {},
   "outputs": [],
   "source": [
    "purpose_df.to_csv(\"../변형데이터/용도별목적대화데이터.csv\", index=False)"
   ]
  },
  {
   "cell_type": "markdown",
   "id": "1a3c9932",
   "metadata": {},
   "source": [
    "## 주제별 일상 대화 데이터 csv로 변환"
   ]
  },
  {
   "cell_type": "code",
   "execution_count": 54,
   "id": "2b9afa02",
   "metadata": {},
   "outputs": [],
   "source": [
    "target_path = \"../원본데이터/주제별 일상 대화 데이터/\""
   ]
  },
  {
   "cell_type": "code",
   "execution_count": 55,
   "id": "d133e8a0",
   "metadata": {},
   "outputs": [],
   "source": [
    "target_path_list = os.listdir(target_path)"
   ]
  },
  {
   "cell_type": "code",
   "execution_count": 74,
   "id": "cc64cdd9",
   "metadata": {},
   "outputs": [
    {
     "data": {
      "text/plain": [
       "['TL_01. KAKAO',\n",
       " 'TL_02. FACEBOOK',\n",
       " 'TL_03. INSTAGRAM',\n",
       " 'TL_04. BAND',\n",
       " 'TL_05. NATEON']"
      ]
     },
     "execution_count": 74,
     "metadata": {},
     "output_type": "execute_result"
    }
   ],
   "source": [
    "target_path_list"
   ]
  },
  {
   "cell_type": "code",
   "execution_count": 57,
   "id": "ce1172ba",
   "metadata": {},
   "outputs": [
    {
     "name": "stdout",
     "output_type": "stream",
     "text": [
      "데이터 개수 = 71651\n",
      "데이터 개수 = 8002\n",
      "데이터 개수 = 4800\n",
      "데이터 개수 = 1631\n",
      "데이터 개수 = 1606\n",
      "총 데이터 개수 = 87690\n"
     ]
    }
   ],
   "source": [
    "total_data = 0\n",
    "for i in range(len(target_path_list)):\n",
    "    cnt = counting(target_path+target_path_list[i])\n",
    "    total_data += cnt\n",
    "print(f'총 데이터 개수 = {total_data}')"
   ]
  },
  {
   "cell_type": "code",
   "execution_count": 88,
   "id": "69787c7b",
   "metadata": {},
   "outputs": [],
   "source": [
    "ex = open(f\"../원본데이터/주제별 일상 대화 데이터/TL_01. KAKAO/KAKAO_898_15.json\", encoding=\"UTF-8\")\n",
    "ex = json.loads(ex.read())"
   ]
  },
  {
   "cell_type": "code",
   "execution_count": 89,
   "id": "8f039dd7",
   "metadata": {},
   "outputs": [
    {
     "data": {
      "text/plain": [
       "'장난 아니죠 ? ㅠ'"
      ]
     },
     "execution_count": 89,
     "metadata": {},
     "output_type": "execute_result"
    }
   ],
   "source": [
    "ex['info'][0]['annotations']['lines'][7]['norm_text']"
   ]
  },
  {
   "cell_type": "code",
   "execution_count": 70,
   "id": "351535c8",
   "metadata": {},
   "outputs": [
    {
     "data": {
      "text/plain": [
       "26"
      ]
     },
     "execution_count": 70,
     "metadata": {},
     "output_type": "execute_result"
    }
   ],
   "source": [
    "len(ex['info'][0]['annotations']['lines'])"
   ]
  },
  {
   "cell_type": "code",
   "execution_count": 76,
   "id": "16de5b06",
   "metadata": {
    "scrolled": true
   },
   "outputs": [
    {
     "data": {
      "text/plain": [
       "['TL_01. KAKAO',\n",
       " 'TL_02. FACEBOOK',\n",
       " 'TL_03. INSTAGRAM',\n",
       " 'TL_04. BAND',\n",
       " 'TL_05. NATEON']"
      ]
     },
     "execution_count": 76,
     "metadata": {},
     "output_type": "execute_result"
    }
   ],
   "source": [
    "target_path_list"
   ]
  },
  {
   "cell_type": "code",
   "execution_count": 96,
   "id": "a2a9cb2a",
   "metadata": {},
   "outputs": [],
   "source": [
    "files = files = os.listdir(target_path+target_path_list[0])"
   ]
  },
  {
   "cell_type": "code",
   "execution_count": 97,
   "id": "28f484e9",
   "metadata": {},
   "outputs": [
    {
     "data": {
      "text/plain": [
       "'../원본데이터/주제별 일상 대화 데이터/TL_01. KAKAOKAKAO_1000_01.json'"
      ]
     },
     "execution_count": 97,
     "metadata": {},
     "output_type": "execute_result"
    }
   ],
   "source": [
    "target_path+target_path_list[0]+files[0]"
   ]
  },
  {
   "cell_type": "code",
   "execution_count": 103,
   "id": "817b9f48",
   "metadata": {},
   "outputs": [
    {
     "data": {
      "text/plain": [
       "['TL_01. KAKAO',\n",
       " 'TL_02. FACEBOOK',\n",
       " 'TL_03. INSTAGRAM',\n",
       " 'TL_04. BAND',\n",
       " 'TL_05. NATEON']"
      ]
     },
     "execution_count": 103,
     "metadata": {},
     "output_type": "execute_result"
    }
   ],
   "source": [
    "target_path_list"
   ]
  },
  {
   "cell_type": "code",
   "execution_count": 110,
   "id": "d91cf59a",
   "metadata": {},
   "outputs": [
    {
     "name": "stdout",
     "output_type": "stream",
     "text": [
      "error! ../원본데이터/주제별 일상 대화 데이터/TL_01. KAKAO/KAKAO_1648_13.json\n"
     ]
    }
   ],
   "source": [
    "daily_conversations = []\n",
    "for i in range(len(target_path_list)):\n",
    "    files = os.listdir(target_path+target_path_list[i])\n",
    "    for k in range(len(files)):\n",
    "        final_path = str(target_path)+str(target_path_list[i])+\"/\"+str(files[k])\n",
    "        try:\n",
    "            target_file = open(f\"{final_path}\", encoding=\"UTF-8\")\n",
    "            target_file = json.loads(target_file.read())\n",
    "            for j in range(len(target_file['info'][0]['annotations']['lines'])):\n",
    "                daily_conversations.append(target_file['info'][0]['annotations']['lines'][j]['norm_text'])\n",
    "        except:\n",
    "            print(f\"error! {final_path}\")"
   ]
  },
  {
   "cell_type": "code",
   "execution_count": 112,
   "id": "3b90b787",
   "metadata": {},
   "outputs": [
    {
     "data": {
      "text/plain": [
       "1445943"
      ]
     },
     "execution_count": 112,
     "metadata": {},
     "output_type": "execute_result"
    }
   ],
   "source": [
    "len(daily_conversations)"
   ]
  },
  {
   "cell_type": "code",
   "execution_count": 113,
   "id": "c39d7bff",
   "metadata": {},
   "outputs": [],
   "source": [
    "daily_conversations_df = pd.DataFrame({'text':daily_conversations})"
   ]
  },
  {
   "cell_type": "code",
   "execution_count": 114,
   "id": "9acde232",
   "metadata": {},
   "outputs": [
    {
     "data": {
      "text/html": [
       "<div>\n",
       "<style scoped>\n",
       "    .dataframe tbody tr th:only-of-type {\n",
       "        vertical-align: middle;\n",
       "    }\n",
       "\n",
       "    .dataframe tbody tr th {\n",
       "        vertical-align: top;\n",
       "    }\n",
       "\n",
       "    .dataframe thead th {\n",
       "        text-align: right;\n",
       "    }\n",
       "</style>\n",
       "<table border=\"1\" class=\"dataframe\">\n",
       "  <thead>\n",
       "    <tr style=\"text-align: right;\">\n",
       "      <th></th>\n",
       "      <th>text</th>\n",
       "    </tr>\n",
       "  </thead>\n",
       "  <tbody>\n",
       "    <tr>\n",
       "      <th>0</th>\n",
       "      <td>애덜앙 나 너무 배불러서 배 아파</td>\n",
       "    </tr>\n",
       "    <tr>\n",
       "      <th>1</th>\n",
       "      <td>배 아프면 약국 가서 소화제라도 마시는 거 어때</td>\n",
       "    </tr>\n",
       "    <tr>\n",
       "      <th>2</th>\n",
       "      <td>얼마나 먹었다고 배가 아프데</td>\n",
       "    </tr>\n",
       "    <tr>\n",
       "      <th>3</th>\n",
       "      <td>떡볶이랑 튀김이랑 닭껍질튀김이랑 마카롱 먹었어</td>\n",
       "    </tr>\n",
       "    <tr>\n",
       "      <th>4</th>\n",
       "      <td>하긴 *이 배는 파리보다 작으니까 당연히 그만큼 먹어도 배부르지</td>\n",
       "    </tr>\n",
       "  </tbody>\n",
       "</table>\n",
       "</div>"
      ],
      "text/plain": [
       "                                  text\n",
       "0                   애덜앙 나 너무 배불러서 배 아파\n",
       "1           배 아프면 약국 가서 소화제라도 마시는 거 어때\n",
       "2                      얼마나 먹었다고 배가 아프데\n",
       "3            떡볶이랑 튀김이랑 닭껍질튀김이랑 마카롱 먹었어\n",
       "4  하긴 *이 배는 파리보다 작으니까 당연히 그만큼 먹어도 배부르지"
      ]
     },
     "execution_count": 114,
     "metadata": {},
     "output_type": "execute_result"
    }
   ],
   "source": [
    "daily_conversations_df.head()"
   ]
  },
  {
   "cell_type": "code",
   "execution_count": 115,
   "id": "7a90bba9",
   "metadata": {},
   "outputs": [
    {
     "data": {
      "text/html": [
       "<div>\n",
       "<style scoped>\n",
       "    .dataframe tbody tr th:only-of-type {\n",
       "        vertical-align: middle;\n",
       "    }\n",
       "\n",
       "    .dataframe tbody tr th {\n",
       "        vertical-align: top;\n",
       "    }\n",
       "\n",
       "    .dataframe thead th {\n",
       "        text-align: right;\n",
       "    }\n",
       "</style>\n",
       "<table border=\"1\" class=\"dataframe\">\n",
       "  <thead>\n",
       "    <tr style=\"text-align: right;\">\n",
       "      <th></th>\n",
       "      <th>text</th>\n",
       "    </tr>\n",
       "  </thead>\n",
       "  <tbody>\n",
       "    <tr>\n",
       "      <th>1445938</th>\n",
       "      <td>나는 이게 정신적인 문제와도 연결이 되는 거라고 생각해</td>\n",
       "    </tr>\n",
       "    <tr>\n",
       "      <th>1445939</th>\n",
       "      <td>응 맞아 집에만 있으면 괜히 마음이 우울해지는게 있더라고</td>\n",
       "    </tr>\n",
       "    <tr>\n",
       "      <th>1445940</th>\n",
       "      <td>또 아이가 너무 어리니 일을 오랫동안 못하니 직장 알아보는것도 제한적이야</td>\n",
       "    </tr>\n",
       "    <tr>\n",
       "      <th>1445941</th>\n",
       "      <td>아이를 생각하면 엄마가 집에 있는게 좋고, 나를 생각하면 직장을 나가는게 좋고 너무...</td>\n",
       "    </tr>\n",
       "    <tr>\n",
       "      <th>1445942</th>\n",
       "      <td>맞아 그렇다보니 자연스레 여성임금이 낮아 질수 밖에 없고 전문적인 분야의 여성비율이...</td>\n",
       "    </tr>\n",
       "  </tbody>\n",
       "</table>\n",
       "</div>"
      ],
      "text/plain": [
       "                                                      text\n",
       "1445938                     나는 이게 정신적인 문제와도 연결이 되는 거라고 생각해\n",
       "1445939                    응 맞아 집에만 있으면 괜히 마음이 우울해지는게 있더라고\n",
       "1445940           또 아이가 너무 어리니 일을 오랫동안 못하니 직장 알아보는것도 제한적이야\n",
       "1445941  아이를 생각하면 엄마가 집에 있는게 좋고, 나를 생각하면 직장을 나가는게 좋고 너무...\n",
       "1445942  맞아 그렇다보니 자연스레 여성임금이 낮아 질수 밖에 없고 전문적인 분야의 여성비율이..."
      ]
     },
     "execution_count": 115,
     "metadata": {},
     "output_type": "execute_result"
    }
   ],
   "source": [
    "daily_conversations_df.tail()"
   ]
  },
  {
   "cell_type": "code",
   "execution_count": 116,
   "id": "90ef0651",
   "metadata": {},
   "outputs": [],
   "source": [
    "daily_conversations_df.to_csv(\"../변형데이터/주제별일상대화데이터.csv\", index=False)"
   ]
  },
  {
   "cell_type": "markdown",
   "id": "da8c8e17",
   "metadata": {},
   "source": [
    "## 일반상식 데이터 csv로 변환"
   ]
  },
  {
   "cell_type": "code",
   "execution_count": 3,
   "id": "0c3f2cce",
   "metadata": {},
   "outputs": [],
   "source": [
    "common_sense = open(f\"../원본데이터/ko_wiki_v1_squad.json\", encoding=\"UTF-8\")\n",
    "common_sense = json.loads(common_sense.read())"
   ]
  },
  {
   "cell_type": "code",
   "execution_count": 4,
   "id": "1a22d3e4",
   "metadata": {},
   "outputs": [
    {
     "data": {
      "text/plain": [
       "68538"
      ]
     },
     "execution_count": 4,
     "metadata": {},
     "output_type": "execute_result"
    }
   ],
   "source": [
    "len(common_sense['data'])"
   ]
  },
  {
   "cell_type": "code",
   "execution_count": 5,
   "id": "086b9f20",
   "metadata": {},
   "outputs": [
    {
     "data": {
      "text/plain": [
       "{'paragraphs': [{'qas': [{'question': '다테 기미코가 최초로 은퇴 선언을 한게 언제지',\n",
       "     'answers': [{'answer_start': 260, 'text': '1996년 9월 24일'}],\n",
       "     'id': '9_f2_wiki_2822-1'}],\n",
       "   'context': \"재팬 오픈에서 4회 우승하였으며, 통산 단식 200승 이상을 거두었다. 1994년 생애 최초로 세계 랭킹 10위권에 진입하였다. 1992년에는 WTA로부터 '올해 가장 많은 향상을 보여준 선수상'(Most Improved Player Of The Year)을 수여받았으며, 일본 남자 패션 협회(Japan Men's Fashion Association)는 그녀를 '가장 패셔너블한 선수'(Most Fashionable)로 칭했다. 생애 두 번째 올림픽 참가 직후인 1996년 9월 24일 최초로 은퇴를 선언하였다. 이후 12년만인 2008년 4월에 예상치 못한 복귀 선언을 하고 투어에 되돌아왔다. 2008년 6월 15일 도쿄 아리아케 인터내셔널 여자 오픈에서 복귀 후 첫 우승을 기록했으며, 2009년 9월 27일에는 한국에서 열린 한솔 코리아 오픈 대회에서 우승하면서 복귀 후 첫 WTA 투어급 대회 우승을 기록했다. 한숨 좀 작작 쉬어!\"}],\n",
       " 'title': '다테_기미코'}"
      ]
     },
     "execution_count": 5,
     "metadata": {},
     "output_type": "execute_result"
    }
   ],
   "source": [
    "common_sense['data'][0]"
   ]
  },
  {
   "cell_type": "code",
   "execution_count": 6,
   "id": "69cfdeb4",
   "metadata": {},
   "outputs": [
    {
     "data": {
      "text/plain": [
       "{'question': '다테 기미코가 최초로 은퇴 선언을 한게 언제지',\n",
       " 'answers': [{'answer_start': 260, 'text': '1996년 9월 24일'}],\n",
       " 'id': '9_f2_wiki_2822-1'}"
      ]
     },
     "execution_count": 6,
     "metadata": {},
     "output_type": "execute_result"
    }
   ],
   "source": [
    "common_sense['data'][0]['paragraphs'][0]['qas'][0]"
   ]
  },
  {
   "cell_type": "code",
   "execution_count": 7,
   "id": "d90f8ad7",
   "metadata": {},
   "outputs": [],
   "source": [
    "query = []\n",
    "answer = []\n",
    "for i in range(len(common_sense['data'])):\n",
    "    query.append(common_sense['data'][i]['paragraphs'][0]['qas'][0]['question'])\n",
    "    answer.append(common_sense['data'][i]['paragraphs'][0]['qas'][0]['answers'][0]['text'])"
   ]
  },
  {
   "cell_type": "code",
   "execution_count": 12,
   "id": "36d3266b",
   "metadata": {},
   "outputs": [
    {
     "data": {
      "text/plain": [
       "68538"
      ]
     },
     "execution_count": 12,
     "metadata": {},
     "output_type": "execute_result"
    }
   ],
   "source": [
    "len(query)"
   ]
  },
  {
   "cell_type": "code",
   "execution_count": 13,
   "id": "9d62f29d",
   "metadata": {},
   "outputs": [
    {
     "data": {
      "text/plain": [
       "68538"
      ]
     },
     "execution_count": 13,
     "metadata": {},
     "output_type": "execute_result"
    }
   ],
   "source": [
    "len(answer)"
   ]
  },
  {
   "cell_type": "code",
   "execution_count": 18,
   "id": "b0abbf05",
   "metadata": {},
   "outputs": [],
   "source": [
    "common_sense_df = pd.DataFrame({'intent':['일반상식']*len(query), 'query':query, 'answer':answer})"
   ]
  },
  {
   "cell_type": "code",
   "execution_count": 20,
   "id": "e348336f",
   "metadata": {},
   "outputs": [
    {
     "data": {
      "text/html": [
       "<div>\n",
       "<style scoped>\n",
       "    .dataframe tbody tr th:only-of-type {\n",
       "        vertical-align: middle;\n",
       "    }\n",
       "\n",
       "    .dataframe tbody tr th {\n",
       "        vertical-align: top;\n",
       "    }\n",
       "\n",
       "    .dataframe thead th {\n",
       "        text-align: right;\n",
       "    }\n",
       "</style>\n",
       "<table border=\"1\" class=\"dataframe\">\n",
       "  <thead>\n",
       "    <tr style=\"text-align: right;\">\n",
       "      <th></th>\n",
       "      <th>intent</th>\n",
       "      <th>query</th>\n",
       "      <th>answer</th>\n",
       "    </tr>\n",
       "  </thead>\n",
       "  <tbody>\n",
       "    <tr>\n",
       "      <th>0</th>\n",
       "      <td>일반상식</td>\n",
       "      <td>다테 기미코가 최초로 은퇴 선언을 한게 언제지</td>\n",
       "      <td>1996년 9월 24일</td>\n",
       "    </tr>\n",
       "    <tr>\n",
       "      <th>1</th>\n",
       "      <td>일반상식</td>\n",
       "      <td>ave;new 본거지 어디야</td>\n",
       "      <td>도쿄 치요다구</td>\n",
       "    </tr>\n",
       "    <tr>\n",
       "      <th>2</th>\n",
       "      <td>일반상식</td>\n",
       "      <td>사카이 다다요시의 아버지가 누구지</td>\n",
       "      <td>사카이 나오타카(酒井直隆)</td>\n",
       "    </tr>\n",
       "    <tr>\n",
       "      <th>3</th>\n",
       "      <td>일반상식</td>\n",
       "      <td>일반성면의 면적이 얼마야</td>\n",
       "      <td>19.41 km²</td>\n",
       "    </tr>\n",
       "    <tr>\n",
       "      <th>4</th>\n",
       "      <td>일반상식</td>\n",
       "      <td>금나라를 세운 사람이 누구야</td>\n",
       "      <td>태조 아구다</td>\n",
       "    </tr>\n",
       "  </tbody>\n",
       "</table>\n",
       "</div>"
      ],
      "text/plain": [
       "  intent                      query          answer\n",
       "0   일반상식  다테 기미코가 최초로 은퇴 선언을 한게 언제지    1996년 9월 24일\n",
       "1   일반상식            ave;new 본거지 어디야         도쿄 치요다구\n",
       "2   일반상식         사카이 다다요시의 아버지가 누구지  사카이 나오타카(酒井直隆)\n",
       "3   일반상식              일반성면의 면적이 얼마야       19.41 km²\n",
       "4   일반상식            금나라를 세운 사람이 누구야          태조 아구다"
      ]
     },
     "execution_count": 20,
     "metadata": {},
     "output_type": "execute_result"
    }
   ],
   "source": [
    "common_sense_df.head()"
   ]
  },
  {
   "cell_type": "code",
   "execution_count": 21,
   "id": "e6389204",
   "metadata": {},
   "outputs": [
    {
     "data": {
      "text/html": [
       "<div>\n",
       "<style scoped>\n",
       "    .dataframe tbody tr th:only-of-type {\n",
       "        vertical-align: middle;\n",
       "    }\n",
       "\n",
       "    .dataframe tbody tr th {\n",
       "        vertical-align: top;\n",
       "    }\n",
       "\n",
       "    .dataframe thead th {\n",
       "        text-align: right;\n",
       "    }\n",
       "</style>\n",
       "<table border=\"1\" class=\"dataframe\">\n",
       "  <thead>\n",
       "    <tr style=\"text-align: right;\">\n",
       "      <th></th>\n",
       "      <th>intent</th>\n",
       "      <th>query</th>\n",
       "      <th>answer</th>\n",
       "    </tr>\n",
       "  </thead>\n",
       "  <tbody>\n",
       "    <tr>\n",
       "      <th>68533</th>\n",
       "      <td>일반상식</td>\n",
       "      <td>네 가지 베다의 주해서가 뭐야</td>\n",
       "      <td>브라마나</td>\n",
       "    </tr>\n",
       "    <tr>\n",
       "      <th>68534</th>\n",
       "      <td>일반상식</td>\n",
       "      <td>보안사 민간인 사찰 사건이 뭐야</td>\n",
       "      <td>1990년 보안사령부(현재의 기무사)에 근무하던 윤석양 이병이 보안사의 사찰 대상 ...</td>\n",
       "    </tr>\n",
       "    <tr>\n",
       "      <th>68535</th>\n",
       "      <td>일반상식</td>\n",
       "      <td>FM 음악도시의 1대 진행자는</td>\n",
       "      <td>신해철</td>\n",
       "    </tr>\n",
       "    <tr>\n",
       "      <th>68536</th>\n",
       "      <td>일반상식</td>\n",
       "      <td>파푸아뉴기니는 몇 개의 주가 있어</td>\n",
       "      <td>21개</td>\n",
       "    </tr>\n",
       "    <tr>\n",
       "      <th>68537</th>\n",
       "      <td>일반상식</td>\n",
       "      <td>메이저에서 고로가 미후네로 돌아와서 야구부가 아닌 축구부에 들어간 이유가 뭐야</td>\n",
       "      <td>후쿠오카 리틀리그에서 오른쪽 어깨에 부상을 입은 뒤로 야구부에 들어가지 않았다</td>\n",
       "    </tr>\n",
       "  </tbody>\n",
       "</table>\n",
       "</div>"
      ],
      "text/plain": [
       "      intent                                        query  \\\n",
       "68533   일반상식                             네 가지 베다의 주해서가 뭐야   \n",
       "68534   일반상식                            보안사 민간인 사찰 사건이 뭐야   \n",
       "68535   일반상식                             FM 음악도시의 1대 진행자는   \n",
       "68536   일반상식                           파푸아뉴기니는 몇 개의 주가 있어   \n",
       "68537   일반상식  메이저에서 고로가 미후네로 돌아와서 야구부가 아닌 축구부에 들어간 이유가 뭐야   \n",
       "\n",
       "                                                  answer  \n",
       "68533                                               브라마나  \n",
       "68534  1990년 보안사령부(현재의 기무사)에 근무하던 윤석양 이병이 보안사의 사찰 대상 ...  \n",
       "68535                                                신해철  \n",
       "68536                                                21개  \n",
       "68537        후쿠오카 리틀리그에서 오른쪽 어깨에 부상을 입은 뒤로 야구부에 들어가지 않았다  "
      ]
     },
     "execution_count": 21,
     "metadata": {},
     "output_type": "execute_result"
    }
   ],
   "source": [
    "common_sense_df.tail()"
   ]
  },
  {
   "cell_type": "code",
   "execution_count": 24,
   "id": "d5a95e5a",
   "metadata": {},
   "outputs": [],
   "source": [
    "common_sense_df.to_csv(\"../변형데이터/일반상식.csv\", index=False)"
   ]
  },
  {
   "cell_type": "markdown",
   "id": "40135f46",
   "metadata": {},
   "source": [
    "## 네이버 영화 리뷰 csv로 변환"
   ]
  },
  {
   "cell_type": "code",
   "execution_count": 26,
   "id": "3d0986d2",
   "metadata": {},
   "outputs": [],
   "source": [
    "ratings = pd.read_csv(\"../원본데이터/ratings.txt\", delimiter='\\t')"
   ]
  },
  {
   "cell_type": "code",
   "execution_count": 27,
   "id": "5e3d0250",
   "metadata": {},
   "outputs": [
    {
     "data": {
      "text/html": [
       "<div>\n",
       "<style scoped>\n",
       "    .dataframe tbody tr th:only-of-type {\n",
       "        vertical-align: middle;\n",
       "    }\n",
       "\n",
       "    .dataframe tbody tr th {\n",
       "        vertical-align: top;\n",
       "    }\n",
       "\n",
       "    .dataframe thead th {\n",
       "        text-align: right;\n",
       "    }\n",
       "</style>\n",
       "<table border=\"1\" class=\"dataframe\">\n",
       "  <thead>\n",
       "    <tr style=\"text-align: right;\">\n",
       "      <th></th>\n",
       "      <th>id</th>\n",
       "      <th>document</th>\n",
       "      <th>label</th>\n",
       "    </tr>\n",
       "  </thead>\n",
       "  <tbody>\n",
       "    <tr>\n",
       "      <th>0</th>\n",
       "      <td>8112052</td>\n",
       "      <td>어릴때보고 지금다시봐도 재밌어요ㅋㅋ</td>\n",
       "      <td>1</td>\n",
       "    </tr>\n",
       "    <tr>\n",
       "      <th>1</th>\n",
       "      <td>8132799</td>\n",
       "      <td>디자인을 배우는 학생으로, 외국디자이너와 그들이 일군 전통을 통해 발전해가는 문화산...</td>\n",
       "      <td>1</td>\n",
       "    </tr>\n",
       "    <tr>\n",
       "      <th>2</th>\n",
       "      <td>4655635</td>\n",
       "      <td>폴리스스토리 시리즈는 1부터 뉴까지 버릴께 하나도 없음.. 최고.</td>\n",
       "      <td>1</td>\n",
       "    </tr>\n",
       "    <tr>\n",
       "      <th>3</th>\n",
       "      <td>9251303</td>\n",
       "      <td>와.. 연기가 진짜 개쩔구나.. 지루할거라고 생각했는데 몰입해서 봤다.. 그래 이런...</td>\n",
       "      <td>1</td>\n",
       "    </tr>\n",
       "    <tr>\n",
       "      <th>4</th>\n",
       "      <td>10067386</td>\n",
       "      <td>안개 자욱한 밤하늘에 떠 있는 초승달 같은 영화.</td>\n",
       "      <td>1</td>\n",
       "    </tr>\n",
       "    <tr>\n",
       "      <th>...</th>\n",
       "      <td>...</td>\n",
       "      <td>...</td>\n",
       "      <td>...</td>\n",
       "    </tr>\n",
       "    <tr>\n",
       "      <th>199995</th>\n",
       "      <td>8963373</td>\n",
       "      <td>포켓 몬스터 짜가 ㅡㅡ;;</td>\n",
       "      <td>0</td>\n",
       "    </tr>\n",
       "    <tr>\n",
       "      <th>199996</th>\n",
       "      <td>3302770</td>\n",
       "      <td>쓰.레.기</td>\n",
       "      <td>0</td>\n",
       "    </tr>\n",
       "    <tr>\n",
       "      <th>199997</th>\n",
       "      <td>5458175</td>\n",
       "      <td>완전 사이코영화. 마지막은 더욱더 이 영화의질을 떨어트린다.</td>\n",
       "      <td>0</td>\n",
       "    </tr>\n",
       "    <tr>\n",
       "      <th>199998</th>\n",
       "      <td>6908648</td>\n",
       "      <td>왜난 재미없었지 ㅠㅠ 라따뚜이 보고나서 스머프 봐서 그런가 ㅋㅋ</td>\n",
       "      <td>0</td>\n",
       "    </tr>\n",
       "    <tr>\n",
       "      <th>199999</th>\n",
       "      <td>8548411</td>\n",
       "      <td>포풍저그가나가신다영차영차영차</td>\n",
       "      <td>0</td>\n",
       "    </tr>\n",
       "  </tbody>\n",
       "</table>\n",
       "<p>200000 rows × 3 columns</p>\n",
       "</div>"
      ],
      "text/plain": [
       "              id                                           document  label\n",
       "0        8112052                                어릴때보고 지금다시봐도 재밌어요ㅋㅋ      1\n",
       "1        8132799  디자인을 배우는 학생으로, 외국디자이너와 그들이 일군 전통을 통해 발전해가는 문화산...      1\n",
       "2        4655635               폴리스스토리 시리즈는 1부터 뉴까지 버릴께 하나도 없음.. 최고.      1\n",
       "3        9251303  와.. 연기가 진짜 개쩔구나.. 지루할거라고 생각했는데 몰입해서 봤다.. 그래 이런...      1\n",
       "4       10067386                        안개 자욱한 밤하늘에 떠 있는 초승달 같은 영화.      1\n",
       "...          ...                                                ...    ...\n",
       "199995   8963373                                     포켓 몬스터 짜가 ㅡㅡ;;      0\n",
       "199996   3302770                                              쓰.레.기      0\n",
       "199997   5458175                  완전 사이코영화. 마지막은 더욱더 이 영화의질을 떨어트린다.      0\n",
       "199998   6908648                왜난 재미없었지 ㅠㅠ 라따뚜이 보고나서 스머프 봐서 그런가 ㅋㅋ      0\n",
       "199999   8548411                                    포풍저그가나가신다영차영차영차      0\n",
       "\n",
       "[200000 rows x 3 columns]"
      ]
     },
     "execution_count": 27,
     "metadata": {},
     "output_type": "execute_result"
    }
   ],
   "source": [
    "ratings"
   ]
  },
  {
   "cell_type": "code",
   "execution_count": 28,
   "id": "3ef1a6c8",
   "metadata": {},
   "outputs": [],
   "source": [
    "ratings.to_csv(\"../변형데이터/영화리뷰.csv\", index=False)"
   ]
  },
  {
   "cell_type": "code",
   "execution_count": null,
   "id": "80b9f58e",
   "metadata": {},
   "outputs": [],
   "source": []
  }
 ],
 "metadata": {
  "kernelspec": {
   "display_name": "Python 3 (ipykernel)",
   "language": "python",
   "name": "python3"
  },
  "language_info": {
   "codemirror_mode": {
    "name": "ipython",
    "version": 3
   },
   "file_extension": ".py",
   "mimetype": "text/x-python",
   "name": "python",
   "nbconvert_exporter": "python",
   "pygments_lexer": "ipython3",
   "version": "3.8.5"
  }
 },
 "nbformat": 4,
 "nbformat_minor": 5
}
